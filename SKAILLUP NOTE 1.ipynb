{
 "cells": [
  {
   "cell_type": "markdown",
   "id": "765a83d0",
   "metadata": {},
   "source": [
    "# INTODUCTION TO PYTHON  \n",
    "\n",
    "A porgram is a set of instruction that tells the computer what to do. Python is an inerpreted language. The latest version is python 3.\n"
   ]
  },
  {
   "cell_type": "markdown",
   "id": "025d7c55",
   "metadata": {},
   "source": [
    "### Downloading python"
   ]
  },
  {
   "cell_type": "code",
   "execution_count": null,
   "id": "24321fe9",
   "metadata": {},
   "outputs": [],
   "source": [
    "... # Fill this place"
   ]
  },
  {
   "cell_type": "markdown",
   "id": "0a80f9b0",
   "metadata": {},
   "source": [
    "### High level language vs low level language"
   ]
  },
  {
   "cell_type": "code",
   "execution_count": null,
   "id": "ab3fe20b",
   "metadata": {},
   "outputs": [],
   "source": [
    "... # Fill this place"
   ]
  },
  {
   "cell_type": "markdown",
   "id": "183e29d7",
   "metadata": {},
   "source": [
    "### Print statement\n",
    "\n",
    "To display, we simply use the print() fuction. Run the code below"
   ]
  },
  {
   "cell_type": "code",
   "execution_count": null,
   "id": "5d24fe78",
   "metadata": {},
   "outputs": [],
   "source": [
    "print(\"Hello, world\")"
   ]
  },
  {
   "cell_type": "markdown",
   "id": "8884547d",
   "metadata": {},
   "source": [
    "### Task 1.0\n",
    "\n",
    "Use the print function to print the line \"I Love Programming\""
   ]
  },
  {
   "cell_type": "code",
   "execution_count": null,
   "id": "e1816bb8",
   "metadata": {},
   "outputs": [],
   "source": [
    "# Write your code here\n",
    "..."
   ]
  },
  {
   "cell_type": "markdown",
   "id": "682dad2e",
   "metadata": {},
   "source": [
    "### Printing new line\n",
    "\n",
    "New line can be printed using an empty print() function. Run the code below"
   ]
  },
  {
   "cell_type": "code",
   "execution_count": null,
   "id": "8a5b47cc",
   "metadata": {},
   "outputs": [],
   "source": [
    "# The code below will print a newline before the newxt one\n",
    "print(\"I love programming\")\n",
    "print()\n",
    "print(\"Python\")"
   ]
  },
  {
   "cell_type": "markdown",
   "id": "705e2352",
   "metadata": {},
   "source": [
    "### Escape charater\n",
    "\n",
    "We can modify the the prvious code using an escape character. \\ is used to escape character. e.g \\n will create a new line.\n",
    "Lets modify the previous task"
   ]
  },
  {
   "cell_type": "code",
   "execution_count": null,
   "id": "fb29b976",
   "metadata": {},
   "outputs": [],
   "source": [
    "# Run this cell\n",
    "print(\"I love programming\\nPython\")"
   ]
  },
  {
   "cell_type": "markdown",
   "id": "924e6fdb",
   "metadata": {},
   "source": [
    "Position and keyword arguement\n",
    "\n",
    "What we pass into a function are called arguements. positonal arguements\n"
   ]
  },
  {
   "cell_type": "code",
   "execution_count": null,
   "id": "77f1f24b",
   "metadata": {},
   "outputs": [],
   "source": [
    "print(\"My name is monthy python\", end=\"-\")\n",
    "print(\"Good learning\")"
   ]
  },
  {
   "cell_type": "code",
   "execution_count": null,
   "id": "440798dd",
   "metadata": {},
   "outputs": [],
   "source": [
    "print(\"My name\",\"is monthy\", \"python\", sep=\"*\", end=\"\")\n",
    "print(\"Good learning\")"
   ]
  },
  {
   "cell_type": "markdown",
   "id": "94434b96",
   "metadata": {},
   "source": [
    "### Python datatyypes\n",
    "\n",
    "The datatype in python are\n",
    "1. float: any decimal number 0.1, 4.2 etc\n",
    "2. integer: positive and negatve non negative numbers 1, -3 etc\n",
    "3. String: A sequence of Characters enclosed in double quotes eg \"Hello\""
   ]
  },
  {
   "cell_type": "code",
   "execution_count": null,
   "id": "b655ac79",
   "metadata": {},
   "outputs": [],
   "source": [
    "print(2.0 * 2.1) # float\n",
    "print(45 + 12) # integer\n",
    "print(\"Hello python\") # string"
   ]
  },
  {
   "cell_type": "markdown",
   "id": "2df79dde",
   "metadata": {},
   "source": [
    "### Arithmentic operators"
   ]
  },
  {
   "cell_type": "code",
   "execution_count": null,
   "id": "8efc5e53",
   "metadata": {},
   "outputs": [],
   "source": [
    "\"\"\"\n",
    "Fellow interns should work on it.\n",
    "\n",
    "Things to work on \n",
    "1. Addition (+)\n",
    "2. Subtraction (-)\n",
    "3. Exponential (**)\n",
    "4. Interger division (//)\n",
    "5. Modulo operator (%)\n",
    "\n",
    "Fellow interns are also expected to build examples below\n",
    "\"\"\""
   ]
  },
  {
   "cell_type": "code",
   "execution_count": null,
   "id": "cdce0824",
   "metadata": {},
   "outputs": [],
   "source": [
    "# Example of each operator above should be hereb"
   ]
  },
  {
   "cell_type": "markdown",
   "id": "8128ad32",
   "metadata": {},
   "source": [
    "### Operators and their priorities"
   ]
  },
  {
   "cell_type": "code",
   "execution_count": null,
   "id": "69df206f",
   "metadata": {},
   "outputs": [],
   "source": [
    "\"\"\"\n",
    "\n",
    "Priority   Operator\n",
    "1          **\n",
    "2          +, - (note: unary operators located next to the right of the power operator bind more strongly)\tunary\n",
    "3          *, /, //, %\n",
    "4          +, - binary\n",
    "\n",
    "Fellow interns are to build up examples\n",
    "\n",
    "e,g print((5 * ((25 % 13) + 100) / (2 * 13)) // 2)\n",
    "\"\"\""
   ]
  },
  {
   "cell_type": "markdown",
   "id": "30535fab",
   "metadata": {},
   "source": [
    "### Variables"
   ]
  },
  {
   "cell_type": "markdown",
   "id": "aea5d102",
   "metadata": {},
   "source": [
    "Variables are container that hold data. The value in a variable is temporary and can change abytime"
   ]
  },
  {
   "cell_type": "code",
   "execution_count": null,
   "id": "3047e581",
   "metadata": {},
   "outputs": [],
   "source": [
    "name =  \"Israel\"\n",
    "print(\"my name is\", name)"
   ]
  },
  {
   "cell_type": "code",
   "execution_count": null,
   "id": "5b22e573",
   "metadata": {},
   "outputs": [],
   "source": [
    "var = 1\n",
    "print(var)\n",
    "var = var + 1\n",
    "print(var)"
   ]
  },
  {
   "cell_type": "code",
   "execution_count": null,
   "id": "f153b04d",
   "metadata": {},
   "outputs": [],
   "source": [
    "var = 100\n",
    "var = 200 + 300\n",
    "print(var)"
   ]
  },
  {
   "cell_type": "code",
   "execution_count": null,
   "id": "4f5e7be6",
   "metadata": {},
   "outputs": [],
   "source": [
    "a = 3.0\n",
    "b = 4.0\n",
    "c = (a ** 2 + b ** 2) ** 0.5\n",
    "print(\"c =\", c)"
   ]
  },
  {
   "cell_type": "markdown",
   "id": "6b346b37",
   "metadata": {},
   "source": [
    "### Rules of forming a variable"
   ]
  },
  {
   "cell_type": "code",
   "execution_count": null,
   "id": "f75d083c",
   "metadata": {},
   "outputs": [],
   "source": [
    "# Fellow interns to work on it"
   ]
  },
  {
   "cell_type": "markdown",
   "id": "f7b2d309",
   "metadata": {},
   "source": [
    "### keywords"
   ]
  },
  {
   "cell_type": "markdown",
   "id": "fa2dacc3",
   "metadata": {},
   "source": [
    "Keywords are reserved words. They cannot be used as variable. examples of keywords are:\n",
    "    import, as, True, in, not"
   ]
  },
  {
   "cell_type": "markdown",
   "id": "9bade26b",
   "metadata": {},
   "source": [
    "### Task 2\n",
    "\n",
    "Your task is to:\n",
    "\n",
    "create the variables: john, mary, and adam;\n",
    "assign values to the variables. The values must be equal to the numbers of fruit possessed by John, Mary, and Adam respectively;\n",
    "having stored the numbers in the variables, print the variables on one line, and separate each of them with a comma;\n",
    "now create a new variable named total_apples equal to addition of the three former variables.\n",
    "print the value stored in total_apples to the console;\n",
    "experiment with your code: create new variables, assign different values to them, and perform various arithmetic operations on them (e.g., +, -, *, /, //, etc.). Try to print a string and an integer together on one line, e.g., \"Total number of apples:\" and total_apples."
   ]
  },
  {
   "cell_type": "code",
   "execution_count": null,
   "id": "5fe582cd",
   "metadata": {},
   "outputs": [],
   "source": [
    "#Solution\n",
    "john = 3\n",
    "mary = 5\n",
    "adam = 6\n",
    "\n",
    "print(john, mary, adam, sep=',')\n",
    "\n",
    "total_apples = john + mary + adam\n",
    "print(total_apples)\n",
    "\n",
    "# peter = 12.5\n",
    "# suzy = 2\n",
    "# print(peter / suzy)\n",
    "# print(\"Total number of apples:\", total_apples)"
   ]
  },
  {
   "cell_type": "markdown",
   "id": "598300cd",
   "metadata": {},
   "source": [
    "### Shortcut operators"
   ]
  },
  {
   "cell_type": "code",
   "execution_count": null,
   "id": "fae543e6",
   "metadata": {},
   "outputs": [],
   "source": [
    "# Fellow interns to work on it"
   ]
  },
  {
   "cell_type": "markdown",
   "id": "d2d53af6",
   "metadata": {},
   "source": [
    "Scenario\n",
    "Miles and kilometers are units of length or distance.\n",
    "\n",
    "Bearing in mind that 1 mile is equal to approximately 1.61 kilometers, complete the program in the editor so that it converts:\n",
    "\n",
    "miles to kilometers;\n",
    "kilometers to miles.\n",
    "Do not change anything in the existing code. Write your code in the places indicated by ###. Test your program with the data we've provided in the source code.\n",
    "\n",
    "\n",
    "Pay particular attention to what is going on inside the print() function. Analyze how we provide multiple arguments to the function, and how we output the expected data.\n",
    "\n",
    "Note that some of the arguments inside the print() function are strings (e.g., \"miles is\", whereas some other are variables (e.g., miles)."
   ]
  },
  {
   "cell_type": "code",
   "execution_count": null,
   "id": "1db567c8",
   "metadata": {},
   "outputs": [],
   "source": [
    "# Solution\n",
    "kilometers = 12.25\n",
    "miles = 7.38\n",
    "\n",
    "miles_to_kilometers = ###\n",
    "kilometers_to_miles = ###\n",
    "\n",
    "print(miles, \"miles is\", round(miles_to_kilometers, 2), \"kilometers\")\n",
    "print(kilometers, \"kilometers is\", round(kilometers_to_miles, 2), \"miles\")"
   ]
  },
  {
   "cell_type": "markdown",
   "id": "c413f1ff",
   "metadata": {},
   "source": [
    "### Input() function"
   ]
  },
  {
   "cell_type": "code",
   "execution_count": null,
   "id": "51c05c5f",
   "metadata": {},
   "outputs": [],
   "source": [
    "# fellow interns to work on it"
   ]
  },
  {
   "cell_type": "markdown",
   "id": "9fe757dd",
   "metadata": {},
   "source": [
    "### Type casting"
   ]
  },
  {
   "cell_type": "code",
   "execution_count": null,
   "id": "76a743a7",
   "metadata": {},
   "outputs": [],
   "source": []
  },
  {
   "cell_type": "markdown",
   "id": "1251ff00",
   "metadata": {},
   "source": [
    "### Concatenation"
   ]
  },
  {
   "cell_type": "code",
   "execution_count": null,
   "id": "3423dbf5",
   "metadata": {},
   "outputs": [],
   "source": []
  },
  {
   "cell_type": "markdown",
   "id": "4d39f6c5",
   "metadata": {},
   "source": [
    "### Boolean operator"
   ]
  },
  {
   "cell_type": "markdown",
   "id": "d4e627ea",
   "metadata": {},
   "source": [
    "When computer compares two values e,g 2 and 3. it give two answers, True or False. A boolean opeator gives either  a true of a false "
   ]
  },
  {
   "cell_type": "code",
   "execution_count": null,
   "id": "01d10e2a",
   "metadata": {},
   "outputs": [],
   "source": [
    "2==2"
   ]
  },
  {
   "cell_type": "markdown",
   "id": "d8f92fe8",
   "metadata": {},
   "source": [
    "### Comparison: equality operator\n",
    "\n",
    "The comparison operator is == . It is different from = (assignment operator)\n",
    "\n",
    "examples of comparison operators are:\n",
    "1. == equal to\n",
    "2. != not equal to\n",
    "3. <= less than or equal\n",
    "4. >= greater or equat"
   ]
  },
  {
   "cell_type": "code",
   "execution_count": null,
   "id": "29832e26",
   "metadata": {},
   "outputs": [],
   "source": [
    "a = 4\n",
    "b = 5\n",
    "print(a>b)"
   ]
  },
  {
   "cell_type": "markdown",
   "id": "122b9e25",
   "metadata": {},
   "source": [
    "### Task 3\n",
    "\n",
    "Scenario\n",
    "Using one of the comparison operators in Python, write a simple two-line program that takes the parameter n as input, which is an integer, and prints False if n is less than 100, and True if n is greater than or equal to 100.\n",
    "\n",
    "Don't create any if blocks (we're going to talk about them very soon). Test your code using the data we've provided for you.\n",
    "\n",
    "Test Data\n",
    "\n",
    "Sample input: 55\n",
    "\n",
    "Expected output: False\n",
    "\n",
    "Sample input: 99\n",
    "\n",
    "Expected output: False\n",
    "\n",
    "Sample input: 100\n",
    "\n",
    "Expected output: True\n",
    "\n",
    "Sample input: 101\n",
    "\n",
    "Expected output: True\n",
    "\n",
    "Sample input: -5\n",
    "\n",
    "Expected output: False\n",
    "\n",
    "Sample input: +123\n",
    "\n",
    "Expected output: True"
   ]
  },
  {
   "cell_type": "code",
   "execution_count": null,
   "id": "e9783090",
   "metadata": {},
   "outputs": [],
   "source": [
    "# solution\n",
    "n = int(input(\"Enter a number: \"))\n",
    "print(n >= 100)"
   ]
  },
  {
   "cell_type": "markdown",
   "id": "bec16d23",
   "metadata": {},
   "source": [
    "### Conditional execution: the if statement"
   ]
  },
  {
   "cell_type": "raw",
   "id": "8b4be8a2",
   "metadata": {},
   "source": [
    "Some conditions depends on the previous condition. For example\n",
    "\n",
    "if rain is falling:\n",
    "    stay indoor\n",
    "else:\n",
    "    play outside\n",
    "    \n",
    "We can only play ouside if rain is not falling.\n"
   ]
  },
  {
   "cell_type": "markdown",
   "id": "8cca5862",
   "metadata": {},
   "source": [
    "### Task 3 using if else statement"
   ]
  },
  {
   "cell_type": "code",
   "execution_count": null,
   "id": "59f1f659",
   "metadata": {},
   "outputs": [],
   "source": [
    "n = int(input(\"Enter a number: \"))\n",
    "if n >= 100:\n",
    "    print(\"True\")\n",
    "else:\n",
    "    print(\"False\")"
   ]
  },
  {
   "cell_type": "markdown",
   "id": "6b74b481",
   "metadata": {},
   "source": [
    "### Nested if-else statements"
   ]
  },
  {
   "cell_type": "raw",
   "id": "ff1c3669",
   "metadata": {},
   "source": [
    "Study the structure below\n",
    "\n",
    "if the_weather_is_good:\n",
    "    if nice_restaurant_is_found:\n",
    "        have_lunch()\n",
    "    else:\n",
    "        eat_a_sandwich()\n",
    "else:\n",
    "    if tickets_are_available:\n",
    "        go_to_the_theater()\n",
    "    else:\n",
    "        go_shopping()"
   ]
  },
  {
   "cell_type": "markdown",
   "id": "30151352",
   "metadata": {},
   "source": [
    "### The elif statement\n",
    "\n",
    "Another special case is the elif statement. Study the structure below"
   ]
  },
  {
   "cell_type": "raw",
   "id": "06688984",
   "metadata": {},
   "source": [
    "if the_weather_is_good:\n",
    "    go_for_a_walk()\n",
    "elif tickets_are_available:\n",
    "    go_to_the_theater()\n",
    "elif table_is_available:\n",
    "    go_for_lunch()\n",
    "else:\n",
    "    play_chess_at_home()"
   ]
  },
  {
   "cell_type": "markdown",
   "id": "a58497ae",
   "metadata": {},
   "source": [
    "#### Example 1: write a program to identify the larger of two numbers:"
   ]
  },
  {
   "cell_type": "code",
   "execution_count": null,
   "id": "d5dd54e2",
   "metadata": {},
   "outputs": [],
   "source": [
    "number1 = int(input(\"Enter the first number: \"))\n",
    "number2 = int(input(\"Enter the second number: \"))\n",
    "\n",
    "# Choose the larger number\n",
    "if number1 > number2:\n",
    "    larger_number = number1\n",
    "else:\n",
    "    larger_number = number2\n",
    "\n",
    "# Print the result\n",
    "print(\"The larger number is:\", larger_number)"
   ]
  },
  {
   "cell_type": "markdown",
   "id": "32faf112",
   "metadata": {},
   "source": [
    "### Task 4"
   ]
  },
  {
   "cell_type": "markdown",
   "id": "9308c6eb",
   "metadata": {},
   "source": [
    "Scenario\n",
    "Spathiphyllum, more commonly known as a peace lily or white sail plant, is one of the most popular indoor houseplants that filters out harmful toxins from the air. Some of the toxins that it neutralizes include benzene, formaldehyde, and ammonia.\n",
    "\n",
    "Imagine that your computer program loves these plants. Whenever it receives an input in the form of the word Spathiphyllum, it involuntarily shouts to the console the following string: \"Spathiphyllum is the best plant ever!\"\n",
    "\n",
    "\n",
    "Write a program that utilizes the concept of conditional execution, takes a string as input, and:\n",
    "\n",
    "prints the sentence \"Yes - Spathiphyllum is the best plant ever!\" to the screen if the inputted string is \"Spathiphyllum\" (upper-case)\n",
    "prints \"No, I want a big Spathiphyllum!\" if the inputted string is \"spathiphyllum\" (lower-case)\n",
    "prints \"Spathiphyllum! Not [input]!\" otherwise. Note: [input] is the string taken as input.\n",
    "\n",
    "Test your code using the data we've provided for you. And get yourself a Spathiphyllum, too!\n",
    "\n",
    "\n",
    "Test Data\n",
    "Sample input: spathiphyllum\n",
    "\n",
    "Expected output: No, I want a big Spathiphyllum!\n",
    "\n",
    "Sample input: pelargonium\n",
    "\n",
    "Expected output: Spathiphyllum! Not pelargonium!\n",
    "\n",
    "Sample input: Spathiphyllum\n",
    "\n",
    "Expected output: Yes - Spathiphyllum is the best plant ever!"
   ]
  },
  {
   "cell_type": "code",
   "execution_count": null,
   "id": "5e1b7b88",
   "metadata": {},
   "outputs": [],
   "source": [
    "# Solution\n",
    "name = input(\"Enter flower name: \")\n",
    "\n",
    "if name == \"Spathiphyllum\":\n",
    "    print(\"Yes - Spathiphyllum is the best plant ever!\")\n",
    "elif name == \"spathiphyllum\":\n",
    "    print(\"No, I want a big Spathiphyllum!\")\n",
    "else:\n",
    "    print(\"Spathiphyllum! Not\", name + \"!\")"
   ]
  },
  {
   "cell_type": "markdown",
   "id": "e3272b2c",
   "metadata": {},
   "source": [
    "### Task 5"
   ]
  },
  {
   "cell_type": "markdown",
   "id": "bec0df93",
   "metadata": {},
   "source": [
    "## Scenario\n",
    "Once upon a time there was a land - a land of milk and honey, inhabited by happy and prosperous people. The people paid taxes, of course - their happiness had limits. The most important tax, called the Personal Income Tax (PIT for short) had to be paid once a year, and was evaluated using the following rule:\n",
    "\n",
    "if the citizen's income was not higher than 85,528 thalers, the tax was equal to 18% of the income minus 556 thalers and 2 cents (this was the so-called tax relief)\n",
    "if the income was higher than this amount, the tax was equal to 14,839 thalers and 2 cents, plus 32% of the surplus over 85,528 thalers.\n",
    "Your task is to write a tax calculator.\n",
    "\n",
    "It should accept one floating-point value: the income.\n",
    "Next, it should print the calculated tax, rounded to full thalers. There's a function named round() which will do the rounding for you - you'll find it in the skeleton code in the editor.\n",
    "Note: this happy country never returns money to its citizens. If the calculated tax is less than zero, it only means no tax at all (the tax is equal to zero). Take this into consideration during your calculations.\n",
    "\n",
    "Look at the code in the editor - it only reads one input value and outputs a result, so you need to complete it with some smart calculations.\n",
    "\n",
    "Test your code using the data we've provided.\n",
    "\n",
    "Test Data\n",
    "Sample input: 10000\n",
    "\n",
    "Expected output: The tax is: 1244.0 thalers\n",
    "\n",
    "Sample input: 100000\n",
    "\n",
    "Expected output: The tax is: 19470.0 thalers\n",
    "\n",
    "Sample input: 1000\n",
    "\n",
    "Expected output: The tax is: 0.0 thalers\n",
    "\n",
    "Sample input: -100\n",
    "\n",
    "Expected output: The tax is: 0.0 thalers"
   ]
  },
  {
   "cell_type": "markdown",
   "id": "c9033871",
   "metadata": {},
   "source": [
    "### Task 6"
   ]
  },
  {
   "cell_type": "markdown",
   "id": "f587e2e8",
   "metadata": {},
   "source": [
    "### Scenario\n",
    "As you surely know, due to some astronomical reasons, years may be leap or common. The former are 366 days long, while the latter are 365 days long.\n",
    "\n",
    "Since the introduction of the Gregorian calendar (in 1582), the following rule is used to determine the kind of year:\n",
    "\n",
    "if the year number isn't divisible by four, it's a common year;\n",
    "otherwise, if the year number isn't divisible by 100, it's a leap year;\n",
    "otherwise, if the year number isn't divisible by 400, it's a common year;\n",
    "otherwise, it's a leap year.\n",
    "Look at the code in the editor - it only reads a year number, and needs to be completed with the instructions implementing the test we've just described.\n",
    "\n",
    "The code should output one of two possible messages, which are Leap year or Common year, depending on the value entered.\n",
    "\n",
    "It would be good to verify if the entered year falls into the Gregorian era, and output a warning otherwise: Not within the Gregorian calendar period. Tip: use the != and % operators.\n",
    "\n",
    "Test your code using the data we've provided.\n",
    "\n",
    "Test Data\n",
    "Sample input: 2000\n",
    "\n",
    "Expected output: Leap year\n",
    "\n",
    "Sample input: 2015\n",
    "\n",
    "Expected output: Common year\n",
    "\n",
    "Sample input: 1999\n",
    "\n",
    "Expected output: Common year\n",
    "\n",
    "Sample input: 1996\n",
    "\n",
    "Expected output: Leap year\n",
    "\n",
    "Sample input: 1580\n",
    "\n",
    "Expected output: Not within the Gregorian calendar period\n",
    "\n"
   ]
  },
  {
   "cell_type": "code",
   "execution_count": null,
   "id": "c7c66120",
   "metadata": {},
   "outputs": [],
   "source": [
    "# Solution \n",
    "\n",
    "year = int(input(\"Enter a year: \"))\n",
    "\n",
    "if year < 1582:\n",
    "    print(\"Not within the Gregorian calendar period\")\n",
    "else:\n",
    "    if year % 4 != 0:\n",
    "    print(\"Common year\")\n",
    "    elif year % 100 != 0:\n",
    "        print(\"Leap year\")\n",
    "    elif year % 400 != 0:\n",
    "        print(\"Common year\")\n",
    "    else:\n",
    "        print(\"Leap year\")\n"
   ]
  }
 ],
 "metadata": {
  "kernelspec": {
   "display_name": "Python 3 (ipykernel)",
   "language": "python",
   "name": "python3"
  },
  "language_info": {
   "codemirror_mode": {
    "name": "ipython",
    "version": 3
   },
   "file_extension": ".py",
   "mimetype": "text/x-python",
   "name": "python",
   "nbconvert_exporter": "python",
   "pygments_lexer": "ipython3",
   "version": "3.9.13"
  }
 },
 "nbformat": 4,
 "nbformat_minor": 5
}
